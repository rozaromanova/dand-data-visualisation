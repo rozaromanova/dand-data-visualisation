{
 "cells": [
  {
   "cell_type": "markdown",
   "metadata": {},
   "source": [
    "# Analyzing FordGoBike Data\n"
   ]
  },
  {
   "cell_type": "markdown",
   "metadata": {},
   "source": [
    "Ford GoBike is a bicycle sharing system in the San Francisco Bay Area. Beginning operation in August 2013 as Bay Area Bike Share across San Francisco, East Bay and San Jose. In 2017 the system officially launched as Ford GoBike in a partnership with Ford Motor Company. \n",
    "\n",
    "Now the service is operated by Lyft."
   ]
  },
  {
   "cell_type": "markdown",
   "metadata": {},
   "source": [
    "### Gathering Data"
   ]
  },
  {
   "cell_type": "code",
   "execution_count": 82,
   "metadata": {},
   "outputs": [],
   "source": [
    "import numpy as np\n",
    "import pandas as pd\n",
    "import matplotlib.pyplot as plt\n",
    "import seaborn as sns\n",
    "import datetime\n",
    "\n",
    "import glob\n",
    "import os\n",
    "\n",
    "%matplotlib inline"
   ]
  },
  {
   "cell_type": "markdown",
   "metadata": {},
   "source": [
    "Gather the data frame from 12 csv files that can be found in the project folder"
   ]
  },
  {
   "cell_type": "code",
   "execution_count": 83,
   "metadata": {},
   "outputs": [],
   "source": [
    "path = r'/Users/rozaromanova/Dev/Repo/data_degree/FordBikeData'\n",
    "files = glob.glob(os.path.join(path, \"*.csv\"))\n",
    "df = pd.concat((pd.read_csv(f) for f in files), ignore_index = True)"
   ]
  },
  {
   "cell_type": "code",
   "execution_count": 84,
   "metadata": {},
   "outputs": [
    {
     "data": {
      "text/html": [
       "<div>\n",
       "<style scoped>\n",
       "    .dataframe tbody tr th:only-of-type {\n",
       "        vertical-align: middle;\n",
       "    }\n",
       "\n",
       "    .dataframe tbody tr th {\n",
       "        vertical-align: top;\n",
       "    }\n",
       "\n",
       "    .dataframe thead th {\n",
       "        text-align: right;\n",
       "    }\n",
       "</style>\n",
       "<table border=\"1\" class=\"dataframe\">\n",
       "  <thead>\n",
       "    <tr style=\"text-align: right;\">\n",
       "      <th></th>\n",
       "      <th>duration_sec</th>\n",
       "      <th>start_time</th>\n",
       "      <th>end_time</th>\n",
       "      <th>start_station_id</th>\n",
       "      <th>start_station_name</th>\n",
       "      <th>start_station_latitude</th>\n",
       "      <th>start_station_longitude</th>\n",
       "      <th>end_station_id</th>\n",
       "      <th>end_station_name</th>\n",
       "      <th>end_station_latitude</th>\n",
       "      <th>end_station_longitude</th>\n",
       "      <th>bike_id</th>\n",
       "      <th>user_type</th>\n",
       "      <th>member_birth_year</th>\n",
       "      <th>member_gender</th>\n",
       "      <th>bike_share_for_all_trip</th>\n",
       "    </tr>\n",
       "  </thead>\n",
       "  <tbody>\n",
       "    <tr>\n",
       "      <th>0</th>\n",
       "      <td>598</td>\n",
       "      <td>2018-02-28 23:59:47.0970</td>\n",
       "      <td>2018-03-01 00:09:45.1870</td>\n",
       "      <td>284.0</td>\n",
       "      <td>Yerba Buena Center for the Arts (Howard St at ...</td>\n",
       "      <td>37.784872</td>\n",
       "      <td>-122.400876</td>\n",
       "      <td>114.0</td>\n",
       "      <td>Rhode Island St at 17th St</td>\n",
       "      <td>37.764478</td>\n",
       "      <td>-122.402570</td>\n",
       "      <td>1035</td>\n",
       "      <td>Subscriber</td>\n",
       "      <td>1988.0</td>\n",
       "      <td>Male</td>\n",
       "      <td>No</td>\n",
       "    </tr>\n",
       "    <tr>\n",
       "      <th>1</th>\n",
       "      <td>943</td>\n",
       "      <td>2018-02-28 23:21:16.4950</td>\n",
       "      <td>2018-02-28 23:36:59.9740</td>\n",
       "      <td>6.0</td>\n",
       "      <td>The Embarcadero at Sansome St</td>\n",
       "      <td>37.804770</td>\n",
       "      <td>-122.403234</td>\n",
       "      <td>324.0</td>\n",
       "      <td>Union Square (Powell St at Post St)</td>\n",
       "      <td>37.788300</td>\n",
       "      <td>-122.408531</td>\n",
       "      <td>1673</td>\n",
       "      <td>Customer</td>\n",
       "      <td>1987.0</td>\n",
       "      <td>Male</td>\n",
       "      <td>No</td>\n",
       "    </tr>\n",
       "  </tbody>\n",
       "</table>\n",
       "</div>"
      ],
      "text/plain": [
       "   duration_sec                start_time                  end_time  \\\n",
       "0           598  2018-02-28 23:59:47.0970  2018-03-01 00:09:45.1870   \n",
       "1           943  2018-02-28 23:21:16.4950  2018-02-28 23:36:59.9740   \n",
       "\n",
       "   start_station_id                                 start_station_name  \\\n",
       "0             284.0  Yerba Buena Center for the Arts (Howard St at ...   \n",
       "1               6.0                      The Embarcadero at Sansome St   \n",
       "\n",
       "   start_station_latitude  start_station_longitude  end_station_id  \\\n",
       "0               37.784872              -122.400876           114.0   \n",
       "1               37.804770              -122.403234           324.0   \n",
       "\n",
       "                      end_station_name  end_station_latitude  \\\n",
       "0           Rhode Island St at 17th St             37.764478   \n",
       "1  Union Square (Powell St at Post St)             37.788300   \n",
       "\n",
       "   end_station_longitude  bike_id   user_type  member_birth_year  \\\n",
       "0            -122.402570     1035  Subscriber             1988.0   \n",
       "1            -122.408531     1673    Customer             1987.0   \n",
       "\n",
       "  member_gender bike_share_for_all_trip  \n",
       "0          Male                      No  \n",
       "1          Male                      No  "
      ]
     },
     "execution_count": 84,
     "metadata": {},
     "output_type": "execute_result"
    }
   ],
   "source": [
    "df.head(2)"
   ]
  },
  {
   "cell_type": "markdown",
   "metadata": {},
   "source": [
    "Create a copy of the df (csv file)"
   ]
  },
  {
   "cell_type": "code",
   "execution_count": 85,
   "metadata": {},
   "outputs": [],
   "source": [
    "df.to_csv('fordbikes_master.csv', index=False)"
   ]
  },
  {
   "cell_type": "markdown",
   "metadata": {},
   "source": [
    "### Assessing Data"
   ]
  },
  {
   "cell_type": "markdown",
   "metadata": {},
   "source": [
    "Visual assessment"
   ]
  },
  {
   "cell_type": "code",
   "execution_count": 86,
   "metadata": {},
   "outputs": [
    {
     "data": {
      "text/html": [
       "<div>\n",
       "<style scoped>\n",
       "    .dataframe tbody tr th:only-of-type {\n",
       "        vertical-align: middle;\n",
       "    }\n",
       "\n",
       "    .dataframe tbody tr th {\n",
       "        vertical-align: top;\n",
       "    }\n",
       "\n",
       "    .dataframe thead th {\n",
       "        text-align: right;\n",
       "    }\n",
       "</style>\n",
       "<table border=\"1\" class=\"dataframe\">\n",
       "  <thead>\n",
       "    <tr style=\"text-align: right;\">\n",
       "      <th></th>\n",
       "      <th>duration_sec</th>\n",
       "      <th>start_time</th>\n",
       "      <th>end_time</th>\n",
       "      <th>start_station_id</th>\n",
       "      <th>start_station_name</th>\n",
       "      <th>start_station_latitude</th>\n",
       "      <th>start_station_longitude</th>\n",
       "      <th>end_station_id</th>\n",
       "      <th>end_station_name</th>\n",
       "      <th>end_station_latitude</th>\n",
       "      <th>end_station_longitude</th>\n",
       "      <th>bike_id</th>\n",
       "      <th>user_type</th>\n",
       "      <th>member_birth_year</th>\n",
       "      <th>member_gender</th>\n",
       "      <th>bike_share_for_all_trip</th>\n",
       "    </tr>\n",
       "  </thead>\n",
       "  <tbody>\n",
       "    <tr>\n",
       "      <th>733548</th>\n",
       "      <td>847</td>\n",
       "      <td>2018-05-12 12:50:13.9740</td>\n",
       "      <td>2018-05-12 13:04:21.0250</td>\n",
       "      <td>73.0</td>\n",
       "      <td>Pierce St at Haight St</td>\n",
       "      <td>37.771793</td>\n",
       "      <td>-122.433708</td>\n",
       "      <td>133.0</td>\n",
       "      <td>Valencia St at 22nd St</td>\n",
       "      <td>37.755213</td>\n",
       "      <td>-122.420975</td>\n",
       "      <td>3138</td>\n",
       "      <td>Customer</td>\n",
       "      <td>1992.0</td>\n",
       "      <td>Female</td>\n",
       "      <td>No</td>\n",
       "    </tr>\n",
       "    <tr>\n",
       "      <th>294184</th>\n",
       "      <td>1853</td>\n",
       "      <td>2018-09-22 11:31:33.9440</td>\n",
       "      <td>2018-09-22 12:02:27.9350</td>\n",
       "      <td>16.0</td>\n",
       "      <td>Steuart St at Market St</td>\n",
       "      <td>37.794130</td>\n",
       "      <td>-122.394430</td>\n",
       "      <td>109.0</td>\n",
       "      <td>17th St at Valencia St</td>\n",
       "      <td>37.763316</td>\n",
       "      <td>-122.421904</td>\n",
       "      <td>1629</td>\n",
       "      <td>Subscriber</td>\n",
       "      <td>1979.0</td>\n",
       "      <td>Male</td>\n",
       "      <td>No</td>\n",
       "    </tr>\n",
       "    <tr>\n",
       "      <th>574638</th>\n",
       "      <td>1850</td>\n",
       "      <td>2018-06-08 10:11:01.8490</td>\n",
       "      <td>2018-06-08 10:41:52.8410</td>\n",
       "      <td>127.0</td>\n",
       "      <td>Valencia St at 21st St</td>\n",
       "      <td>37.756708</td>\n",
       "      <td>-122.421025</td>\n",
       "      <td>6.0</td>\n",
       "      <td>The Embarcadero at Sansome St</td>\n",
       "      <td>37.804770</td>\n",
       "      <td>-122.403234</td>\n",
       "      <td>231</td>\n",
       "      <td>Subscriber</td>\n",
       "      <td>1997.0</td>\n",
       "      <td>Female</td>\n",
       "      <td>No</td>\n",
       "    </tr>\n",
       "    <tr>\n",
       "      <th>1622255</th>\n",
       "      <td>4214</td>\n",
       "      <td>2018-03-31 14:46:17.6380</td>\n",
       "      <td>2018-03-31 15:56:32.6370</td>\n",
       "      <td>102.0</td>\n",
       "      <td>Irwin St at 8th St</td>\n",
       "      <td>37.766883</td>\n",
       "      <td>-122.399579</td>\n",
       "      <td>17.0</td>\n",
       "      <td>Embarcadero BART Station (Beale St at Market St)</td>\n",
       "      <td>37.792251</td>\n",
       "      <td>-122.397086</td>\n",
       "      <td>859</td>\n",
       "      <td>Customer</td>\n",
       "      <td>NaN</td>\n",
       "      <td>NaN</td>\n",
       "      <td>No</td>\n",
       "    </tr>\n",
       "    <tr>\n",
       "      <th>1193401</th>\n",
       "      <td>133</td>\n",
       "      <td>2018-07-07 03:19:25.0060</td>\n",
       "      <td>2018-07-07 03:21:38.7540</td>\n",
       "      <td>240.0</td>\n",
       "      <td>Haste St at Telegraph Ave</td>\n",
       "      <td>37.866043</td>\n",
       "      <td>-122.258804</td>\n",
       "      <td>253.0</td>\n",
       "      <td>Haste St at College Ave</td>\n",
       "      <td>37.866418</td>\n",
       "      <td>-122.253799</td>\n",
       "      <td>1344</td>\n",
       "      <td>Subscriber</td>\n",
       "      <td>NaN</td>\n",
       "      <td>NaN</td>\n",
       "      <td>No</td>\n",
       "    </tr>\n",
       "    <tr>\n",
       "      <th>1752036</th>\n",
       "      <td>1060</td>\n",
       "      <td>2018-04-26 20:04:18.1460</td>\n",
       "      <td>2018-04-26 20:21:58.2370</td>\n",
       "      <td>19.0</td>\n",
       "      <td>Post St at Kearny St</td>\n",
       "      <td>37.788975</td>\n",
       "      <td>-122.403452</td>\n",
       "      <td>133.0</td>\n",
       "      <td>Valencia St at 22nd St</td>\n",
       "      <td>37.755213</td>\n",
       "      <td>-122.420975</td>\n",
       "      <td>1204</td>\n",
       "      <td>Subscriber</td>\n",
       "      <td>1978.0</td>\n",
       "      <td>Male</td>\n",
       "      <td>No</td>\n",
       "    </tr>\n",
       "    <tr>\n",
       "      <th>975383</th>\n",
       "      <td>198</td>\n",
       "      <td>2018-01-19 20:43:43.8840</td>\n",
       "      <td>2018-01-19 20:47:02.6090</td>\n",
       "      <td>49.0</td>\n",
       "      <td>S Park St at 3rd St</td>\n",
       "      <td>37.780760</td>\n",
       "      <td>-122.394989</td>\n",
       "      <td>67.0</td>\n",
       "      <td>San Francisco Caltrain Station 2  (Townsend St...</td>\n",
       "      <td>37.776639</td>\n",
       "      <td>-122.395526</td>\n",
       "      <td>2861</td>\n",
       "      <td>Subscriber</td>\n",
       "      <td>1973.0</td>\n",
       "      <td>Female</td>\n",
       "      <td>No</td>\n",
       "    </tr>\n",
       "    <tr>\n",
       "      <th>1066962</th>\n",
       "      <td>1089</td>\n",
       "      <td>2018-07-25 18:42:14.1130</td>\n",
       "      <td>2018-07-25 19:00:23.8050</td>\n",
       "      <td>50.0</td>\n",
       "      <td>2nd St at Townsend St</td>\n",
       "      <td>37.780526</td>\n",
       "      <td>-122.390288</td>\n",
       "      <td>50.0</td>\n",
       "      <td>2nd St at Townsend St</td>\n",
       "      <td>37.780526</td>\n",
       "      <td>-122.390288</td>\n",
       "      <td>3299</td>\n",
       "      <td>Subscriber</td>\n",
       "      <td>1965.0</td>\n",
       "      <td>Male</td>\n",
       "      <td>Yes</td>\n",
       "    </tr>\n",
       "    <tr>\n",
       "      <th>1161758</th>\n",
       "      <td>1074</td>\n",
       "      <td>2018-07-11 20:06:47.7020</td>\n",
       "      <td>2018-07-11 20:24:41.7930</td>\n",
       "      <td>126.0</td>\n",
       "      <td>Esprit Park</td>\n",
       "      <td>37.761634</td>\n",
       "      <td>-122.390648</td>\n",
       "      <td>11.0</td>\n",
       "      <td>Davis St at Jackson St</td>\n",
       "      <td>37.797280</td>\n",
       "      <td>-122.398436</td>\n",
       "      <td>2077</td>\n",
       "      <td>Subscriber</td>\n",
       "      <td>1991.0</td>\n",
       "      <td>Male</td>\n",
       "      <td>No</td>\n",
       "    </tr>\n",
       "    <tr>\n",
       "      <th>90337</th>\n",
       "      <td>632</td>\n",
       "      <td>2018-02-05 12:47:17.1740</td>\n",
       "      <td>2018-02-05 12:57:49.5830</td>\n",
       "      <td>167.0</td>\n",
       "      <td>College Ave at Harwood Ave</td>\n",
       "      <td>37.848152</td>\n",
       "      <td>-122.252160</td>\n",
       "      <td>175.0</td>\n",
       "      <td>49th St at Telegraph Ave</td>\n",
       "      <td>37.835946</td>\n",
       "      <td>-122.262366</td>\n",
       "      <td>3689</td>\n",
       "      <td>Subscriber</td>\n",
       "      <td>1953.0</td>\n",
       "      <td>Female</td>\n",
       "      <td>No</td>\n",
       "    </tr>\n",
       "  </tbody>\n",
       "</table>\n",
       "</div>"
      ],
      "text/plain": [
       "         duration_sec                start_time                  end_time  \\\n",
       "733548            847  2018-05-12 12:50:13.9740  2018-05-12 13:04:21.0250   \n",
       "294184           1853  2018-09-22 11:31:33.9440  2018-09-22 12:02:27.9350   \n",
       "574638           1850  2018-06-08 10:11:01.8490  2018-06-08 10:41:52.8410   \n",
       "1622255          4214  2018-03-31 14:46:17.6380  2018-03-31 15:56:32.6370   \n",
       "1193401           133  2018-07-07 03:19:25.0060  2018-07-07 03:21:38.7540   \n",
       "1752036          1060  2018-04-26 20:04:18.1460  2018-04-26 20:21:58.2370   \n",
       "975383            198  2018-01-19 20:43:43.8840  2018-01-19 20:47:02.6090   \n",
       "1066962          1089  2018-07-25 18:42:14.1130  2018-07-25 19:00:23.8050   \n",
       "1161758          1074  2018-07-11 20:06:47.7020  2018-07-11 20:24:41.7930   \n",
       "90337             632  2018-02-05 12:47:17.1740  2018-02-05 12:57:49.5830   \n",
       "\n",
       "         start_station_id          start_station_name  start_station_latitude  \\\n",
       "733548               73.0      Pierce St at Haight St               37.771793   \n",
       "294184               16.0     Steuart St at Market St               37.794130   \n",
       "574638              127.0      Valencia St at 21st St               37.756708   \n",
       "1622255             102.0          Irwin St at 8th St               37.766883   \n",
       "1193401             240.0   Haste St at Telegraph Ave               37.866043   \n",
       "1752036              19.0        Post St at Kearny St               37.788975   \n",
       "975383               49.0         S Park St at 3rd St               37.780760   \n",
       "1066962              50.0       2nd St at Townsend St               37.780526   \n",
       "1161758             126.0                 Esprit Park               37.761634   \n",
       "90337               167.0  College Ave at Harwood Ave               37.848152   \n",
       "\n",
       "         start_station_longitude  end_station_id  \\\n",
       "733548               -122.433708           133.0   \n",
       "294184               -122.394430           109.0   \n",
       "574638               -122.421025             6.0   \n",
       "1622255              -122.399579            17.0   \n",
       "1193401              -122.258804           253.0   \n",
       "1752036              -122.403452           133.0   \n",
       "975383               -122.394989            67.0   \n",
       "1066962              -122.390288            50.0   \n",
       "1161758              -122.390648            11.0   \n",
       "90337                -122.252160           175.0   \n",
       "\n",
       "                                          end_station_name  \\\n",
       "733548                              Valencia St at 22nd St   \n",
       "294184                              17th St at Valencia St   \n",
       "574638                       The Embarcadero at Sansome St   \n",
       "1622255   Embarcadero BART Station (Beale St at Market St)   \n",
       "1193401                            Haste St at College Ave   \n",
       "1752036                             Valencia St at 22nd St   \n",
       "975383   San Francisco Caltrain Station 2  (Townsend St...   \n",
       "1066962                              2nd St at Townsend St   \n",
       "1161758                             Davis St at Jackson St   \n",
       "90337                             49th St at Telegraph Ave   \n",
       "\n",
       "         end_station_latitude  end_station_longitude  bike_id   user_type  \\\n",
       "733548              37.755213            -122.420975     3138    Customer   \n",
       "294184              37.763316            -122.421904     1629  Subscriber   \n",
       "574638              37.804770            -122.403234      231  Subscriber   \n",
       "1622255             37.792251            -122.397086      859    Customer   \n",
       "1193401             37.866418            -122.253799     1344  Subscriber   \n",
       "1752036             37.755213            -122.420975     1204  Subscriber   \n",
       "975383              37.776639            -122.395526     2861  Subscriber   \n",
       "1066962             37.780526            -122.390288     3299  Subscriber   \n",
       "1161758             37.797280            -122.398436     2077  Subscriber   \n",
       "90337               37.835946            -122.262366     3689  Subscriber   \n",
       "\n",
       "         member_birth_year member_gender bike_share_for_all_trip  \n",
       "733548              1992.0        Female                      No  \n",
       "294184              1979.0          Male                      No  \n",
       "574638              1997.0        Female                      No  \n",
       "1622255                NaN           NaN                      No  \n",
       "1193401                NaN           NaN                      No  \n",
       "1752036             1978.0          Male                      No  \n",
       "975383              1973.0        Female                      No  \n",
       "1066962             1965.0          Male                     Yes  \n",
       "1161758             1991.0          Male                      No  \n",
       "90337               1953.0        Female                      No  "
      ]
     },
     "execution_count": 86,
     "metadata": {},
     "output_type": "execute_result"
    }
   ],
   "source": [
    "df.sample(10)"
   ]
  },
  {
   "cell_type": "code",
   "execution_count": 87,
   "metadata": {},
   "outputs": [
    {
     "name": "stdout",
     "output_type": "stream",
     "text": [
      "<class 'pandas.core.frame.DataFrame'>\n",
      "RangeIndex: 1863721 entries, 0 to 1863720\n",
      "Data columns (total 16 columns):\n",
      "duration_sec               int64\n",
      "start_time                 object\n",
      "end_time                   object\n",
      "start_station_id           float64\n",
      "start_station_name         object\n",
      "start_station_latitude     float64\n",
      "start_station_longitude    float64\n",
      "end_station_id             float64\n",
      "end_station_name           object\n",
      "end_station_latitude       float64\n",
      "end_station_longitude      float64\n",
      "bike_id                    int64\n",
      "user_type                  object\n",
      "member_birth_year          float64\n",
      "member_gender              object\n",
      "bike_share_for_all_trip    object\n",
      "dtypes: float64(7), int64(2), object(7)\n",
      "memory usage: 227.5+ MB\n"
     ]
    }
   ],
   "source": [
    "df.info()"
   ]
  },
  {
   "cell_type": "code",
   "execution_count": 88,
   "metadata": {},
   "outputs": [
    {
     "data": {
      "text/plain": [
       "0"
      ]
     },
     "execution_count": 88,
     "metadata": {},
     "output_type": "execute_result"
    }
   ],
   "source": [
    "df.duplicated().sum()"
   ]
  },
  {
   "cell_type": "code",
   "execution_count": 89,
   "metadata": {},
   "outputs": [
    {
     "data": {
      "text/html": [
       "<div>\n",
       "<style scoped>\n",
       "    .dataframe tbody tr th:only-of-type {\n",
       "        vertical-align: middle;\n",
       "    }\n",
       "\n",
       "    .dataframe tbody tr th {\n",
       "        vertical-align: top;\n",
       "    }\n",
       "\n",
       "    .dataframe thead th {\n",
       "        text-align: right;\n",
       "    }\n",
       "</style>\n",
       "<table border=\"1\" class=\"dataframe\">\n",
       "  <thead>\n",
       "    <tr style=\"text-align: right;\">\n",
       "      <th></th>\n",
       "      <th>duration_sec</th>\n",
       "      <th>start_station_id</th>\n",
       "      <th>start_station_latitude</th>\n",
       "      <th>start_station_longitude</th>\n",
       "      <th>end_station_id</th>\n",
       "      <th>end_station_latitude</th>\n",
       "      <th>end_station_longitude</th>\n",
       "      <th>bike_id</th>\n",
       "      <th>member_birth_year</th>\n",
       "    </tr>\n",
       "  </thead>\n",
       "  <tbody>\n",
       "    <tr>\n",
       "      <th>count</th>\n",
       "      <td>1.863721e+06</td>\n",
       "      <td>1.851950e+06</td>\n",
       "      <td>1.863721e+06</td>\n",
       "      <td>1.863721e+06</td>\n",
       "      <td>1.851950e+06</td>\n",
       "      <td>1.863721e+06</td>\n",
       "      <td>1.863721e+06</td>\n",
       "      <td>1.863721e+06</td>\n",
       "      <td>1.753003e+06</td>\n",
       "    </tr>\n",
       "    <tr>\n",
       "      <th>mean</th>\n",
       "      <td>8.573026e+02</td>\n",
       "      <td>1.196744e+02</td>\n",
       "      <td>3.776678e+01</td>\n",
       "      <td>-1.223492e+02</td>\n",
       "      <td>1.181730e+02</td>\n",
       "      <td>3.776690e+01</td>\n",
       "      <td>-1.223487e+02</td>\n",
       "      <td>2.296851e+03</td>\n",
       "      <td>1.983088e+03</td>\n",
       "    </tr>\n",
       "    <tr>\n",
       "      <th>std</th>\n",
       "      <td>2.370379e+03</td>\n",
       "      <td>1.003976e+02</td>\n",
       "      <td>1.057689e-01</td>\n",
       "      <td>1.654634e-01</td>\n",
       "      <td>1.004403e+02</td>\n",
       "      <td>1.056483e-01</td>\n",
       "      <td>1.650597e-01</td>\n",
       "      <td>1.287733e+03</td>\n",
       "      <td>1.044289e+01</td>\n",
       "    </tr>\n",
       "    <tr>\n",
       "      <th>min</th>\n",
       "      <td>6.100000e+01</td>\n",
       "      <td>3.000000e+00</td>\n",
       "      <td>3.726331e+01</td>\n",
       "      <td>-1.224737e+02</td>\n",
       "      <td>3.000000e+00</td>\n",
       "      <td>3.726331e+01</td>\n",
       "      <td>-1.224737e+02</td>\n",
       "      <td>1.100000e+01</td>\n",
       "      <td>1.881000e+03</td>\n",
       "    </tr>\n",
       "    <tr>\n",
       "      <th>25%</th>\n",
       "      <td>3.500000e+02</td>\n",
       "      <td>3.300000e+01</td>\n",
       "      <td>3.777106e+01</td>\n",
       "      <td>-1.224114e+02</td>\n",
       "      <td>3.000000e+01</td>\n",
       "      <td>3.777106e+01</td>\n",
       "      <td>-1.224094e+02</td>\n",
       "      <td>1.225000e+03</td>\n",
       "      <td>1.978000e+03</td>\n",
       "    </tr>\n",
       "    <tr>\n",
       "      <th>50%</th>\n",
       "      <td>5.560000e+02</td>\n",
       "      <td>8.900000e+01</td>\n",
       "      <td>3.778107e+01</td>\n",
       "      <td>-1.223974e+02</td>\n",
       "      <td>8.800000e+01</td>\n",
       "      <td>3.778127e+01</td>\n",
       "      <td>-1.223971e+02</td>\n",
       "      <td>2.338000e+03</td>\n",
       "      <td>1.985000e+03</td>\n",
       "    </tr>\n",
       "    <tr>\n",
       "      <th>75%</th>\n",
       "      <td>8.720000e+02</td>\n",
       "      <td>1.860000e+02</td>\n",
       "      <td>3.779625e+01</td>\n",
       "      <td>-1.222865e+02</td>\n",
       "      <td>1.830000e+02</td>\n",
       "      <td>3.779728e+01</td>\n",
       "      <td>-1.222894e+02</td>\n",
       "      <td>3.333000e+03</td>\n",
       "      <td>1.991000e+03</td>\n",
       "    </tr>\n",
       "    <tr>\n",
       "      <th>max</th>\n",
       "      <td>8.636600e+04</td>\n",
       "      <td>3.810000e+02</td>\n",
       "      <td>4.551000e+01</td>\n",
       "      <td>-7.357000e+01</td>\n",
       "      <td>3.810000e+02</td>\n",
       "      <td>4.551000e+01</td>\n",
       "      <td>-7.357000e+01</td>\n",
       "      <td>6.234000e+03</td>\n",
       "      <td>2.000000e+03</td>\n",
       "    </tr>\n",
       "  </tbody>\n",
       "</table>\n",
       "</div>"
      ],
      "text/plain": [
       "       duration_sec  start_station_id  start_station_latitude  \\\n",
       "count  1.863721e+06      1.851950e+06            1.863721e+06   \n",
       "mean   8.573026e+02      1.196744e+02            3.776678e+01   \n",
       "std    2.370379e+03      1.003976e+02            1.057689e-01   \n",
       "min    6.100000e+01      3.000000e+00            3.726331e+01   \n",
       "25%    3.500000e+02      3.300000e+01            3.777106e+01   \n",
       "50%    5.560000e+02      8.900000e+01            3.778107e+01   \n",
       "75%    8.720000e+02      1.860000e+02            3.779625e+01   \n",
       "max    8.636600e+04      3.810000e+02            4.551000e+01   \n",
       "\n",
       "       start_station_longitude  end_station_id  end_station_latitude  \\\n",
       "count             1.863721e+06    1.851950e+06          1.863721e+06   \n",
       "mean             -1.223492e+02    1.181730e+02          3.776690e+01   \n",
       "std               1.654634e-01    1.004403e+02          1.056483e-01   \n",
       "min              -1.224737e+02    3.000000e+00          3.726331e+01   \n",
       "25%              -1.224114e+02    3.000000e+01          3.777106e+01   \n",
       "50%              -1.223974e+02    8.800000e+01          3.778127e+01   \n",
       "75%              -1.222865e+02    1.830000e+02          3.779728e+01   \n",
       "max              -7.357000e+01    3.810000e+02          4.551000e+01   \n",
       "\n",
       "       end_station_longitude       bike_id  member_birth_year  \n",
       "count           1.863721e+06  1.863721e+06       1.753003e+06  \n",
       "mean           -1.223487e+02  2.296851e+03       1.983088e+03  \n",
       "std             1.650597e-01  1.287733e+03       1.044289e+01  \n",
       "min            -1.224737e+02  1.100000e+01       1.881000e+03  \n",
       "25%            -1.224094e+02  1.225000e+03       1.978000e+03  \n",
       "50%            -1.223971e+02  2.338000e+03       1.985000e+03  \n",
       "75%            -1.222894e+02  3.333000e+03       1.991000e+03  \n",
       "max            -7.357000e+01  6.234000e+03       2.000000e+03  "
      ]
     },
     "execution_count": 89,
     "metadata": {},
     "output_type": "execute_result"
    }
   ],
   "source": [
    "df.describe()"
   ]
  },
  {
   "cell_type": "markdown",
   "metadata": {},
   "source": [
    "###### Quality issues\n",
    "1. start_time and end_time are float\n",
    "2. id columns are float \n",
    "3. user_type is object, but categorical is more suitable; also member_gender and bike_share_for_all_trip \n",
    "4. birth_year is float\n",
    "5. missing values in start_station_id, start_station_name, end_station_id, end_station_name, member_birth_year, member_gender \n",
    "\n",
    "###### Tidiness issues\n",
    "1. Extract weekday/day of week/hour infromation from start_time and end_time\n",
    "2. Calculate the user's age\n",
    "3. Calculate the trip duration in minutes\n",
    "4. Calculate the trip distance\n",
    "5. Drop the columns that won't be used in the future"
   ]
  },
  {
   "cell_type": "markdown",
   "metadata": {},
   "source": [
    "### Cleaning Data\n"
   ]
  },
  {
   "cell_type": "markdown",
   "metadata": {},
   "source": [
    "**Define** convert the colomns with wrong data types\n",
    "- start_time and end_time > to_datetime\n",
    "- user_type, member_gender and bike_share_for_all_trip > categorical\n",
    "- id > str"
   ]
  },
  {
   "cell_type": "markdown",
   "metadata": {},
   "source": [
    "**Code**"
   ]
  },
  {
   "cell_type": "code",
   "execution_count": 90,
   "metadata": {},
   "outputs": [],
   "source": [
    "df.start_time = pd.to_datetime(df.start_time)\n",
    "df.end_time = pd.to_datetime(df.end_time)"
   ]
  },
  {
   "cell_type": "code",
   "execution_count": 91,
   "metadata": {},
   "outputs": [],
   "source": [
    "df.user_type = df.user_type.astype('category')\n",
    "df.member_gender = df.member_gender.astype('category')\n",
    "df.bike_share_for_all_trip = df.bike_share_for_all_trip.astype('category')"
   ]
  },
  {
   "cell_type": "code",
   "execution_count": 92,
   "metadata": {},
   "outputs": [],
   "source": [
    "df.start_station_id = df.start_station_id.astype(str)\n",
    "df.end_station_id  = df.end_station_id.astype(str)\n",
    "df.bike_id = df.bike_id.astype(str)"
   ]
  },
  {
   "cell_type": "markdown",
   "metadata": {},
   "source": [
    "**Test**"
   ]
  },
  {
   "cell_type": "code",
   "execution_count": 93,
   "metadata": {
    "scrolled": true
   },
   "outputs": [
    {
     "name": "stdout",
     "output_type": "stream",
     "text": [
      "<class 'pandas.core.frame.DataFrame'>\n",
      "RangeIndex: 1863721 entries, 0 to 1863720\n",
      "Data columns (total 16 columns):\n",
      "duration_sec               int64\n",
      "start_time                 datetime64[ns]\n",
      "end_time                   datetime64[ns]\n",
      "start_station_id           object\n",
      "start_station_name         object\n",
      "start_station_latitude     float64\n",
      "start_station_longitude    float64\n",
      "end_station_id             object\n",
      "end_station_name           object\n",
      "end_station_latitude       float64\n",
      "end_station_longitude      float64\n",
      "bike_id                    object\n",
      "user_type                  category\n",
      "member_birth_year          float64\n",
      "member_gender              category\n",
      "bike_share_for_all_trip    category\n",
      "dtypes: category(3), datetime64[ns](2), float64(5), int64(1), object(5)\n",
      "memory usage: 190.2+ MB\n"
     ]
    }
   ],
   "source": [
    "df.info()"
   ]
  },
  {
   "cell_type": "markdown",
   "metadata": {},
   "source": [
    "**Define** Extract weekday/day of week/hour infromation from start_time and put it to separate columns."
   ]
  },
  {
   "cell_type": "markdown",
   "metadata": {},
   "source": [
    "**Code**"
   ]
  },
  {
   "cell_type": "code",
   "execution_count": 94,
   "metadata": {},
   "outputs": [],
   "source": [
    "df['start_time_month'] = df['start_time'].dt.strftime('%B')\n",
    "df['start_time_month_number'] = df['start_time'].dt.month.astype(int)"
   ]
  },
  {
   "cell_type": "code",
   "execution_count": 95,
   "metadata": {},
   "outputs": [],
   "source": [
    "df['start_time_weekday'] = df['start_time'].dt.strftime('%a')"
   ]
  },
  {
   "cell_type": "code",
   "execution_count": 96,
   "metadata": {},
   "outputs": [],
   "source": [
    "df['start_time_hour'] = df['start_time'].dt.hour\n",
    "df['end_time_hour'] = df['end_time'].dt.hour"
   ]
  },
  {
   "cell_type": "markdown",
   "metadata": {},
   "source": [
    "**Test**"
   ]
  },
  {
   "cell_type": "code",
   "execution_count": 97,
   "metadata": {},
   "outputs": [
    {
     "data": {
      "text/html": [
       "<div>\n",
       "<style scoped>\n",
       "    .dataframe tbody tr th:only-of-type {\n",
       "        vertical-align: middle;\n",
       "    }\n",
       "\n",
       "    .dataframe tbody tr th {\n",
       "        vertical-align: top;\n",
       "    }\n",
       "\n",
       "    .dataframe thead th {\n",
       "        text-align: right;\n",
       "    }\n",
       "</style>\n",
       "<table border=\"1\" class=\"dataframe\">\n",
       "  <thead>\n",
       "    <tr style=\"text-align: right;\">\n",
       "      <th></th>\n",
       "      <th>duration_sec</th>\n",
       "      <th>start_time</th>\n",
       "      <th>end_time</th>\n",
       "      <th>start_station_id</th>\n",
       "      <th>start_station_name</th>\n",
       "      <th>start_station_latitude</th>\n",
       "      <th>start_station_longitude</th>\n",
       "      <th>end_station_id</th>\n",
       "      <th>end_station_name</th>\n",
       "      <th>end_station_latitude</th>\n",
       "      <th>...</th>\n",
       "      <th>bike_id</th>\n",
       "      <th>user_type</th>\n",
       "      <th>member_birth_year</th>\n",
       "      <th>member_gender</th>\n",
       "      <th>bike_share_for_all_trip</th>\n",
       "      <th>start_time_month</th>\n",
       "      <th>start_time_month_number</th>\n",
       "      <th>start_time_weekday</th>\n",
       "      <th>start_time_hour</th>\n",
       "      <th>end_time_hour</th>\n",
       "    </tr>\n",
       "  </thead>\n",
       "  <tbody>\n",
       "    <tr>\n",
       "      <th>0</th>\n",
       "      <td>598</td>\n",
       "      <td>2018-02-28 23:59:47.097</td>\n",
       "      <td>2018-03-01 00:09:45.187</td>\n",
       "      <td>284.0</td>\n",
       "      <td>Yerba Buena Center for the Arts (Howard St at ...</td>\n",
       "      <td>37.784872</td>\n",
       "      <td>-122.400876</td>\n",
       "      <td>114.0</td>\n",
       "      <td>Rhode Island St at 17th St</td>\n",
       "      <td>37.764478</td>\n",
       "      <td>...</td>\n",
       "      <td>1035</td>\n",
       "      <td>Subscriber</td>\n",
       "      <td>1988.0</td>\n",
       "      <td>Male</td>\n",
       "      <td>No</td>\n",
       "      <td>February</td>\n",
       "      <td>2</td>\n",
       "      <td>Wed</td>\n",
       "      <td>23</td>\n",
       "      <td>0</td>\n",
       "    </tr>\n",
       "    <tr>\n",
       "      <th>1</th>\n",
       "      <td>943</td>\n",
       "      <td>2018-02-28 23:21:16.495</td>\n",
       "      <td>2018-02-28 23:36:59.974</td>\n",
       "      <td>6.0</td>\n",
       "      <td>The Embarcadero at Sansome St</td>\n",
       "      <td>37.804770</td>\n",
       "      <td>-122.403234</td>\n",
       "      <td>324.0</td>\n",
       "      <td>Union Square (Powell St at Post St)</td>\n",
       "      <td>37.788300</td>\n",
       "      <td>...</td>\n",
       "      <td>1673</td>\n",
       "      <td>Customer</td>\n",
       "      <td>1987.0</td>\n",
       "      <td>Male</td>\n",
       "      <td>No</td>\n",
       "      <td>February</td>\n",
       "      <td>2</td>\n",
       "      <td>Wed</td>\n",
       "      <td>23</td>\n",
       "      <td>23</td>\n",
       "    </tr>\n",
       "  </tbody>\n",
       "</table>\n",
       "<p>2 rows × 21 columns</p>\n",
       "</div>"
      ],
      "text/plain": [
       "   duration_sec              start_time                end_time  \\\n",
       "0           598 2018-02-28 23:59:47.097 2018-03-01 00:09:45.187   \n",
       "1           943 2018-02-28 23:21:16.495 2018-02-28 23:36:59.974   \n",
       "\n",
       "  start_station_id                                 start_station_name  \\\n",
       "0            284.0  Yerba Buena Center for the Arts (Howard St at ...   \n",
       "1              6.0                      The Embarcadero at Sansome St   \n",
       "\n",
       "   start_station_latitude  start_station_longitude end_station_id  \\\n",
       "0               37.784872              -122.400876          114.0   \n",
       "1               37.804770              -122.403234          324.0   \n",
       "\n",
       "                      end_station_name  end_station_latitude  ...  bike_id  \\\n",
       "0           Rhode Island St at 17th St             37.764478  ...     1035   \n",
       "1  Union Square (Powell St at Post St)             37.788300  ...     1673   \n",
       "\n",
       "    user_type member_birth_year  member_gender bike_share_for_all_trip  \\\n",
       "0  Subscriber            1988.0           Male                      No   \n",
       "1    Customer            1987.0           Male                      No   \n",
       "\n",
       "  start_time_month start_time_month_number  start_time_weekday  \\\n",
       "0         February                       2                 Wed   \n",
       "1         February                       2                 Wed   \n",
       "\n",
       "  start_time_hour  end_time_hour  \n",
       "0              23              0  \n",
       "1              23             23  \n",
       "\n",
       "[2 rows x 21 columns]"
      ]
     },
     "execution_count": 97,
     "metadata": {},
     "output_type": "execute_result"
    }
   ],
   "source": [
    "df.head(2)"
   ]
  },
  {
   "cell_type": "markdown",
   "metadata": {},
   "source": [
    "**Define** Calculate the user's age by substracting member_birth_year from 2019"
   ]
  },
  {
   "cell_type": "markdown",
   "metadata": {},
   "source": [
    "**Code**"
   ]
  },
  {
   "cell_type": "code",
   "execution_count": 98,
   "metadata": {},
   "outputs": [],
   "source": [
    "df['member_age'] = 2019 - df['member_birth_year']"
   ]
  },
  {
   "cell_type": "code",
   "execution_count": 99,
   "metadata": {},
   "outputs": [
    {
     "data": {
      "text/plain": [
       "1400887    28.0\n",
       "785456     32.0\n",
       "254042     30.0\n",
       "1227118    36.0\n",
       "874970     63.0\n",
       "970480     36.0\n",
       "1260977    32.0\n",
       "155166     41.0\n",
       "1754812    32.0\n",
       "1267390    38.0\n",
       "1050833    31.0\n",
       "606526     38.0\n",
       "1133150    46.0\n",
       "944758     30.0\n",
       "1647437    34.0\n",
       "46491      57.0\n",
       "6550       36.0\n",
       "1298510    26.0\n",
       "1372058    49.0\n",
       "1655752    42.0\n",
       "Name: member_age, dtype: float64"
      ]
     },
     "execution_count": 99,
     "metadata": {},
     "output_type": "execute_result"
    }
   ],
   "source": [
    "df['member_age'].sample(20)"
   ]
  },
  {
   "cell_type": "markdown",
   "metadata": {},
   "source": [
    "Let's get rid of NaNs by replacing them with the mean age"
   ]
  },
  {
   "cell_type": "code",
   "execution_count": 100,
   "metadata": {
    "scrolled": true
   },
   "outputs": [
    {
     "data": {
      "text/plain": [
       "35.91203780027758"
      ]
     },
     "execution_count": 100,
     "metadata": {},
     "output_type": "execute_result"
    }
   ],
   "source": [
    "df.member_age.mean()"
   ]
  },
  {
   "cell_type": "code",
   "execution_count": 101,
   "metadata": {},
   "outputs": [],
   "source": [
    "df.member_age = df.member_age.fillna(df.member_age.mean())\n",
    "df['member_age'] = df['member_age'].astype(int)"
   ]
  },
  {
   "cell_type": "markdown",
   "metadata": {},
   "source": [
    "**Test**"
   ]
  },
  {
   "cell_type": "code",
   "execution_count": 102,
   "metadata": {
    "scrolled": true
   },
   "outputs": [
    {
     "data": {
      "text/plain": [
       "count    1.863721e+06\n",
       "mean     3.585786e+01\n",
       "std      1.013024e+01\n",
       "min      1.900000e+01\n",
       "25%      2.900000e+01\n",
       "50%      3.400000e+01\n",
       "75%      4.000000e+01\n",
       "max      1.380000e+02\n",
       "Name: member_age, dtype: float64"
      ]
     },
     "execution_count": 102,
     "metadata": {},
     "output_type": "execute_result"
    }
   ],
   "source": [
    "df.member_age.describe()"
   ]
  },
  {
   "cell_type": "markdown",
   "metadata": {},
   "source": [
    "**Define** Calculate the trip duration in minutes"
   ]
  },
  {
   "cell_type": "markdown",
   "metadata": {},
   "source": [
    "**Code**"
   ]
  },
  {
   "cell_type": "code",
   "execution_count": 103,
   "metadata": {},
   "outputs": [],
   "source": [
    "df['duration_min'] = df['duration_sec']/60\n",
    "df['duration_min'] = df['duration_min'].astype(int)"
   ]
  },
  {
   "cell_type": "markdown",
   "metadata": {},
   "source": [
    "**Test**"
   ]
  },
  {
   "cell_type": "code",
   "execution_count": 104,
   "metadata": {},
   "outputs": [
    {
     "data": {
      "text/html": [
       "<div>\n",
       "<style scoped>\n",
       "    .dataframe tbody tr th:only-of-type {\n",
       "        vertical-align: middle;\n",
       "    }\n",
       "\n",
       "    .dataframe tbody tr th {\n",
       "        vertical-align: top;\n",
       "    }\n",
       "\n",
       "    .dataframe thead th {\n",
       "        text-align: right;\n",
       "    }\n",
       "</style>\n",
       "<table border=\"1\" class=\"dataframe\">\n",
       "  <thead>\n",
       "    <tr style=\"text-align: right;\">\n",
       "      <th></th>\n",
       "      <th>duration_sec</th>\n",
       "      <th>start_time</th>\n",
       "      <th>end_time</th>\n",
       "      <th>start_station_id</th>\n",
       "      <th>start_station_name</th>\n",
       "      <th>start_station_latitude</th>\n",
       "      <th>start_station_longitude</th>\n",
       "      <th>end_station_id</th>\n",
       "      <th>end_station_name</th>\n",
       "      <th>end_station_latitude</th>\n",
       "      <th>...</th>\n",
       "      <th>member_birth_year</th>\n",
       "      <th>member_gender</th>\n",
       "      <th>bike_share_for_all_trip</th>\n",
       "      <th>start_time_month</th>\n",
       "      <th>start_time_month_number</th>\n",
       "      <th>start_time_weekday</th>\n",
       "      <th>start_time_hour</th>\n",
       "      <th>end_time_hour</th>\n",
       "      <th>member_age</th>\n",
       "      <th>duration_min</th>\n",
       "    </tr>\n",
       "  </thead>\n",
       "  <tbody>\n",
       "    <tr>\n",
       "      <th>0</th>\n",
       "      <td>598</td>\n",
       "      <td>2018-02-28 23:59:47.097</td>\n",
       "      <td>2018-03-01 00:09:45.187</td>\n",
       "      <td>284.0</td>\n",
       "      <td>Yerba Buena Center for the Arts (Howard St at ...</td>\n",
       "      <td>37.784872</td>\n",
       "      <td>-122.400876</td>\n",
       "      <td>114.0</td>\n",
       "      <td>Rhode Island St at 17th St</td>\n",
       "      <td>37.764478</td>\n",
       "      <td>...</td>\n",
       "      <td>1988.0</td>\n",
       "      <td>Male</td>\n",
       "      <td>No</td>\n",
       "      <td>February</td>\n",
       "      <td>2</td>\n",
       "      <td>Wed</td>\n",
       "      <td>23</td>\n",
       "      <td>0</td>\n",
       "      <td>31</td>\n",
       "      <td>9</td>\n",
       "    </tr>\n",
       "    <tr>\n",
       "      <th>1</th>\n",
       "      <td>943</td>\n",
       "      <td>2018-02-28 23:21:16.495</td>\n",
       "      <td>2018-02-28 23:36:59.974</td>\n",
       "      <td>6.0</td>\n",
       "      <td>The Embarcadero at Sansome St</td>\n",
       "      <td>37.804770</td>\n",
       "      <td>-122.403234</td>\n",
       "      <td>324.0</td>\n",
       "      <td>Union Square (Powell St at Post St)</td>\n",
       "      <td>37.788300</td>\n",
       "      <td>...</td>\n",
       "      <td>1987.0</td>\n",
       "      <td>Male</td>\n",
       "      <td>No</td>\n",
       "      <td>February</td>\n",
       "      <td>2</td>\n",
       "      <td>Wed</td>\n",
       "      <td>23</td>\n",
       "      <td>23</td>\n",
       "      <td>32</td>\n",
       "      <td>15</td>\n",
       "    </tr>\n",
       "  </tbody>\n",
       "</table>\n",
       "<p>2 rows × 23 columns</p>\n",
       "</div>"
      ],
      "text/plain": [
       "   duration_sec              start_time                end_time  \\\n",
       "0           598 2018-02-28 23:59:47.097 2018-03-01 00:09:45.187   \n",
       "1           943 2018-02-28 23:21:16.495 2018-02-28 23:36:59.974   \n",
       "\n",
       "  start_station_id                                 start_station_name  \\\n",
       "0            284.0  Yerba Buena Center for the Arts (Howard St at ...   \n",
       "1              6.0                      The Embarcadero at Sansome St   \n",
       "\n",
       "   start_station_latitude  start_station_longitude end_station_id  \\\n",
       "0               37.784872              -122.400876          114.0   \n",
       "1               37.804770              -122.403234          324.0   \n",
       "\n",
       "                      end_station_name  end_station_latitude  ...  \\\n",
       "0           Rhode Island St at 17th St             37.764478  ...   \n",
       "1  Union Square (Powell St at Post St)             37.788300  ...   \n",
       "\n",
       "   member_birth_year member_gender bike_share_for_all_trip  start_time_month  \\\n",
       "0             1988.0          Male                      No          February   \n",
       "1             1987.0          Male                      No          February   \n",
       "\n",
       "  start_time_month_number start_time_weekday start_time_hour  end_time_hour  \\\n",
       "0                       2                Wed              23              0   \n",
       "1                       2                Wed              23             23   \n",
       "\n",
       "  member_age  duration_min  \n",
       "0         31             9  \n",
       "1         32            15  \n",
       "\n",
       "[2 rows x 23 columns]"
      ]
     },
     "execution_count": 104,
     "metadata": {},
     "output_type": "execute_result"
    }
   ],
   "source": [
    "df.head(2)"
   ]
  },
  {
   "cell_type": "markdown",
   "metadata": {},
   "source": [
    "**Define** drop the columns that won't be used in further analysis"
   ]
  },
  {
   "cell_type": "code",
   "execution_count": null,
   "metadata": {},
   "outputs": [],
   "source": []
  },
  {
   "cell_type": "code",
   "execution_count": null,
   "metadata": {},
   "outputs": [],
   "source": []
  },
  {
   "cell_type": "markdown",
   "metadata": {},
   "source": [
    "**Code**"
   ]
  },
  {
   "cell_type": "markdown",
   "metadata": {},
   "source": [
    "#### What is the structure of your dataset?\n",
    "\n",
    "Originally there were approx. 185,000 bike rides that happen in 2018 in the San Francisco Bay Area. The dataset contained features about:\n",
    "\n",
    "Trip time/duration\n",
    "- duration_sec\n",
    "- start_time\n",
    "- end_time\n",
    "Start station\n",
    "- start_station_id\t\n",
    "- start_station_name\t\n",
    "- start_station_latitude\t\n",
    "- start_station_longitude\t\n",
    "End station\n",
    "- end_station_id\t\n",
    "- end_station_name\t\n",
    "- end_station_latitude\t\n",
    "- end_station_longitude\t\n",
    "Bike_id      \n",
    "User data\n",
    "- user_type\n",
    "- member_birth_year\t\n",
    "- member_gender\n",
    "Trip type\n",
    "- bike_share_for_all_trip\t\n",
    "\n",
    "As a result of cleaning and wrangling I added new columns:\n",
    "\n",
    "Trip info\n",
    "- start_time_month\t\n",
    "- start_time_month_number\t\n",
    "- start_time_weekday\t\n",
    "- start_time_hour\t\n",
    "- end_time_hour\t\n",
    "- duration_min\n",
    "\n",
    "User data\n",
    "- member_age\t\n",
    "\n",
    "\n",
    "####  What are the main feature(s) of interest in your dataset?\n",
    "\n",
    "The most interest for me is the feautres that contain information about bike rental start, to identify the day/time, when the bikes asre in high demand.\n",
    "\n",
    "Second area of interest is demographics - age/gender, that could help make better business decisions and marketing.\n",
    "\n",
    "####  What features in the dataset do you think will help support your investigation into your features of interest?\n",
    "\n",
    "All features that contain time/duration information, as well as user data"
   ]
  },
  {
   "cell_type": "markdown",
   "metadata": {},
   "source": [
    "### Univariate Exploration"
   ]
  },
  {
   "cell_type": "markdown",
   "metadata": {},
   "source": [
    "1. Bike usage by month"
   ]
  },
  {
   "cell_type": "code",
   "execution_count": 129,
   "metadata": {},
   "outputs": [
    {
     "data": {
      "image/png": "[encoded data removed]",
      "text/plain": [
       "<Figure size 612x360 with 1 Axes>"
      ]
     },
     "metadata": {
      "needs_background": "light"
     },
     "output_type": "display_data"
    }
   ],
   "source": [
    "base_color = sns.color_palette()[1]\n",
    "order = ['January', 'February', 'March', 'April', 'May', 'June', 'July', 'August', 'September', 'October', 'November', 'December']\n",
    "g = sns.catplot(data = df, x = 'start_time_month', order = order, kind = 'count', color = base_color, aspect = 1.7);\n",
    "g.set_axis_labels('Month', 'Amount of Trips'),\n",
    "g.fig.suptitle('FordBike Usage by Month', y = 1, fontsize = 14, fontweight = 'semibold');\n",
    "g.set_xticklabels(rotation = 50);"
   ]
  },
  {
   "cell_type": "markdown",
   "metadata": {},
   "source": [
    "Looks like the bike share is significantly less popular during the winter and early spring month  November-April, that could be explained by the weather conditions in the Bay Area"
   ]
  },
  {
   "cell_type": "markdown",
   "metadata": {},
   "source": [
    "2. Bike usage by weekday"
   ]
  },
  {
   "cell_type": "code",
   "execution_count": 130,
   "metadata": {},
   "outputs": [
    {
     "data": {
      "image/png": "[encoded data removed]",
      "text/plain": [
       "<Figure size 360x360 with 1 Axes>"
      ]
     },
     "metadata": {
      "needs_background": "light"
     },
     "output_type": "display_data"
    }
   ],
   "source": [
    "order_weekday = ['Sun', 'Mon', 'Tue', 'Wed', 'Thu', 'Fri', 'Sat']\n",
    "g = sns.catplot(data = df, x = 'start_time_weekday', kind = 'count', color = base_color, order = order_weekday)\n",
    "g.set_axis_labels('Weekdays', 'Amount of Trips')\n",
    "g.fig.suptitle('FordBike Usage by Weekday', y = 1, fontsize = 14, fontweight = 'semibold');\n",
    "g.set_xticklabels(rotation = 50);"
   ]
  },
  {
   "cell_type": "markdown",
   "metadata": {},
   "source": [
    "Not surprising - Saturday/Sunday are the less busy days for FordBike, with the working days showing comparable values."
   ]
  },
  {
   "cell_type": "markdown",
   "metadata": {},
   "source": [
    "3. Usage by hour"
   ]
  },
  {
   "cell_type": "code",
   "execution_count": 132,
   "metadata": {},
   "outputs": [
    {
     "data": {
      "image/png": "[encoded data removed]",
      "text/plain": [
       "<Figure size 360x360 with 1 Axes>"
      ]
     },
     "metadata": {
      "needs_background": "light"
     },
     "output_type": "display_data"
    }
   ],
   "source": [
    "g = sns.catplot(data = df, x = 'start_time_hour', kind = 'count', color = base_color)\n",
    "g.set_axis_labels(\"Hour\", \"Amount of Trips\")\n",
    "g.fig.suptitle('FordBike Usage by Weekday', y = 1.09, fontsize = 14, fontweight = 'semibold');"
   ]
  },
  {
   "cell_type": "markdown",
   "metadata": {},
   "source": [
    "The peak hours for the bikes are 7-9(7-9 am) and 16-19(4-7 pm). It sounds like regular commute times."
   ]
  },
  {
   "cell_type": "markdown",
   "metadata": {},
   "source": [
    "4. Duration of the ride"
   ]
  },
  {
   "cell_type": "code",
   "execution_count": 140,
   "metadata": {
    "scrolled": true
   },
   "outputs": [
    {
     "data": {
      "image/png": "[encoded data removed]",
      "text/plain": [
       "<Figure size 432x288 with 1 Axes>"
      ]
     },
     "metadata": {
      "needs_background": "light"
     },
     "output_type": "display_data"
    }
   ],
   "source": [
    "bins = np.arange(0, 45, 0.5)\n",
    "ticks = [0, 5, 10, 15, 20, 25, 30,  35, 40, 45, 50]\n",
    "labels = ['{}'.format(val) for val in ticks]\n",
    "\n",
    "plt.hist(data = df, x = 'duration_min', bins = bins,  color = 'orange');\n",
    "plt.title(\"FordBike Trip Duration, mins\", y=1.05, fontsize=14, fontweight='semibold')\n",
    "plt.xlabel('Duration, min')\n",
    "plt.xticks(ticks, labels)\n",
    "plt.ylabel('Amount of Trips');"
   ]
  },
  {
   "cell_type": "markdown",
   "metadata": {},
   "source": [
    "Most of the rides are shorter than 30 mins, with mean duration about 13 min. There are no rides longer than 45 mins. This suggests that the rides are quite short. The 45 mins can be explained by the membership offering unlimited 45-min rides.\n"
   ]
  },
  {
   "cell_type": "markdown",
   "metadata": {},
   "source": [
    "5. Bikesharing users by age"
   ]
  },
  {
   "cell_type": "code",
   "execution_count": 142,
   "metadata": {},
   "outputs": [
    {
     "data": {
      "image/png": "[encoded data removed]",
      "text/plain": [
       "<Figure size 432x288 with 1 Axes>"
      ]
     },
     "metadata": {
      "needs_background": "light"
     },
     "output_type": "display_data"
    }
   ],
   "source": [
    "bins = np.arange(0, 65, 5)\n",
    "plt.hist(data = df, x = 'member_age', bins = bins, color = 'orange');\n",
    "plt.title(\"FordBike Users by Age\", y=1.05, fontsize=14, fontweight='semibold')\n",
    "plt.xlabel('Users by Age')\n",
    "plt.ylabel('Amount of Bike Trips');"
   ]
  },
  {
   "cell_type": "markdown",
   "metadata": {},
   "source": [
    "The magority of users are 25 to 45 years old, with mean 35.5 years. "
   ]
  },
  {
   "cell_type": "markdown",
   "metadata": {},
   "source": [
    "6. Bikesharing users by gender"
   ]
  },
  {
   "cell_type": "code",
   "execution_count": 143,
   "metadata": {},
   "outputs": [
    {
     "data": {
      "text/plain": [
       "Male      1288085\n",
       "Female     438188\n",
       "Other       27081\n",
       "Name: member_gender, dtype: int64"
      ]
     },
     "execution_count": 143,
     "metadata": {},
     "output_type": "execute_result"
    }
   ],
   "source": [
    "df.member_gender.value_counts()"
   ]
  },
  {
   "cell_type": "code",
   "execution_count": 146,
   "metadata": {},
   "outputs": [
    {
     "data": {
      "image/png": "[encoded data removed]",
      "text/plain": [
       "<Figure size 432x288 with 1 Axes>"
      ]
     },
     "metadata": {},
     "output_type": "display_data"
    }
   ],
   "source": [
    "gender = df.member_gender.value_counts()\n",
    "plt.pie(gender, labels = gender.index, autopct= '%1.1f%%', textprops={'color':'black'});\n",
    "plt.title('FordBike Users by Gender', y=1.05, fontsize=14, fontweight='semibold', color = 'white');"
   ]
  },
  {
   "cell_type": "markdown",
   "metadata": {},
   "source": [
    "The majority of bikesharing users are Male - 73.5% vs Female -25%."
   ]
  },
  {
   "cell_type": "markdown",
   "metadata": {},
   "source": [
    "### Bivariate Exploration"
   ]
  },
  {
   "cell_type": "markdown",
   "metadata": {},
   "source": [
    "Let's now investigate how Members(Subscribers) and Non-members(Customers) use the bikesharing, comparing the graphs from previous section. "
   ]
  },
  {
   "cell_type": "code",
   "execution_count": 147,
   "metadata": {},
   "outputs": [],
   "source": [
    "customer = df.query('user_type == \"Customer\"')['bike_id'].count()\n",
    "customer_proportion = customer / df['bike_id'].count()\n",
    "\n",
    "subscriber = df.query('user_type == \"Subscriber\"')['bike_id'].count()\n",
    "subscriber_proportion = subscriber / df['bike_id'].count()"
   ]
  },
  {
   "cell_type": "code",
   "execution_count": 154,
   "metadata": {
    "scrolled": true
   },
   "outputs": [
    {
     "data": {
      "image/png": "[encoded data removed]",
      "text/plain": [
       "<Figure size 432x288 with 1 Axes>"
      ]
     },
     "metadata": {},
     "output_type": "display_data"
    }
   ],
   "source": [
    "labels = ['Customer', 'Subscriber']\n",
    "sizes = [customer_proportion, subscriber_proportion]\n",
    "\n",
    "plt.pie(sizes, labels = labels, autopct = '%1.1f%%', startangle = 90)\n",
    "plt.axis('equal')\n",
    "plt.suptitle('User type split in FordBike', y = 1.03, fontsize = 14, fontweight = 'semibold');"
   ]
  },
  {
   "cell_type": "markdown",
   "metadata": {},
   "source": [
    "1. Trips by month and user type"
   ]
  },
  {
   "cell_type": "code",
   "execution_count": 169,
   "metadata": {},
   "outputs": [
    {
     "data": {
      "image/png": "[encoded data removed]",
      "text/plain": [
       "<Figure size 720x360 with 2 Axes>"
      ]
     },
     "metadata": {
      "needs_background": "light"
     },
     "output_type": "display_data"
    }
   ],
   "source": [
    "order = ['January', 'February', 'March', 'April', 'May', 'June', 'July', 'August', 'September', 'October', 'November', 'December']\n",
    "g = sns.catplot(data = df, x = 'start_time_month', col = \"user_type\", kind = 'count', sharey = True, color = base_color, order = order);\n",
    "g.set_axis_labels(\"Month\", \"Amount of Trips\");\n",
    "g.set_titles(\"{col_name}\");\n",
    "g.fig.suptitle('FordBike Trips by Month - Customers vs. Subscribers', y=1.05, fontsize=14, fontweight='semibold');\n",
    "g.set_xticklabels(rotation=50);\n",
    "\n",
    "\n"
   ]
  },
  {
   "cell_type": "markdown",
   "metadata": {},
   "source": [
    "The 'customer behavior' is very different to 'subscriber behavior'. My first guess is that most of the subscribers are Bay Area residents and use it as public transportation system, while customers are likely to be visitors who rent bikes for sightseen."
   ]
  },
  {
   "cell_type": "markdown",
   "metadata": {},
   "source": [
    "2. Trips by day and user type"
   ]
  },
  {
   "cell_type": "code",
   "execution_count": 159,
   "metadata": {},
   "outputs": [
    {
     "data": {
      "image/png": "[encoded data removed]",
      "text/plain": [
       "<Figure size 720x360 with 2 Axes>"
      ]
     },
     "metadata": {
      "needs_background": "light"
     },
     "output_type": "display_data"
    }
   ],
   "source": [
    "weekday = ['Sun', 'Mon', 'Tue', 'Wed', 'Thu', 'Fri', 'Sat']\n",
    "g = sns.catplot(data = df, x = 'start_time_weekday', col = \"user_type\", kind = 'count', sharey = True, color = base_color, order = weekday);\n",
    "g.set_axis_labels(\"Weekay\", \"Amount of Trips\");\n",
    "g.set_titles(\"{col_name}\");\n",
    "g.fig.suptitle('FordBike Trips by Weekday - Customers vs. Subscribers', y=1.05, fontsize=14, fontweight='semibold');\n",
    "g.set_xticklabels(rotation=50);\n"
   ]
  },
  {
   "cell_type": "markdown",
   "metadata": {},
   "source": [
    "Same with the weekdays - customer vs subscriber behaviour repeats the pattern from previous graph."
   ]
  },
  {
   "cell_type": "markdown",
   "metadata": {},
   "source": [
    "3. Trips by time and user type"
   ]
  },
  {
   "cell_type": "code",
   "execution_count": 160,
   "metadata": {},
   "outputs": [
    {
     "data": {
      "image/png": "[encoded data removed]",
      "text/plain": [
       "<Figure size 720x360 with 2 Axes>"
      ]
     },
     "metadata": {
      "needs_background": "light"
     },
     "output_type": "display_data"
    }
   ],
   "source": [
    "g = sns.catplot(data = df, x = 'start_time_hour', col = \"user_type\", kind = 'count', sharey = True, color = base_color);\n",
    "g.set_axis_labels(\"Hour\", \"Amount of Trips\");\n",
    "g.set_titles(\"{col_name}\");\n",
    "g.fig.suptitle('FordBike Trips by Hour - Customers vs. Subscribers', y = 1.05, fontsize = 14, fontweight = 'semibold');\n",
    "g.set_xticklabels(rotation=50);\n"
   ]
  },
  {
   "cell_type": "markdown",
   "metadata": {},
   "source": [
    "Again, same customer vs subscriber trend shown here. Subscribers tend to show increase in 'commute hours', while customer's demand is distributed equally through the day"
   ]
  },
  {
   "cell_type": "markdown",
   "metadata": {},
   "source": [
    "4. Trip duration by user type"
   ]
  },
  {
   "cell_type": "code",
   "execution_count": 161,
   "metadata": {},
   "outputs": [
    {
     "data": {
      "image/png": "[encoded data removed]",
      "text/plain": [
       "<Figure size 1440x360 with 2 Axes>"
      ]
     },
     "metadata": {
      "needs_background": "light"
     },
     "output_type": "display_data"
    }
   ],
   "source": [
    "data = df.query('duration_min < 45')\n",
    "g = sns.catplot(data = data, x = 'duration_min', col = 'user_type', kind = 'count', sharey = False, color = base_color, height = 5, aspect = 2);\n",
    "g.set_axis_labels('Duration, min', 'Amount of Trips')\n",
    "g.set_titles('{col_name}')\n",
    "g.fig.suptitle('FordBike Trips by Duration - Customers vs. Subscribers ', y = 1.05, fontsize = 14, fontweight='semibold');\n",
    "g.set_xticklabels(rotation = 50);"
   ]
  },
  {
   "cell_type": "markdown",
   "metadata": {},
   "source": [
    "#### Talk about some of the relationships you observed in this part of the investigation. How did the features of interest vary with other features in the dataset?\n",
    "\n",
    "Using the user type in the analysis opened a different perspective. The behavious of ciustomers and subscribers are reflecting the difference in their needs. Based on the forst insight, the customers seem to be casual bike riders, who could be tourists/students/arts professions. Subscribers are daily commuterswho rent bikes more often during weekdays than weekends and mainly around the time they go to or from work.\n",
    "\n",
    "####  Did you observe any interesting relationships between the other features (not the main features of interest)?\n",
    "There is a difference in the trip duration between customers and subscribers. Customers trips are usually longer than for subscribers. "
   ]
  },
  {
   "cell_type": "markdown",
   "metadata": {},
   "source": [
    "### Multivariate Exploration"
   ]
  },
  {
   "cell_type": "markdown",
   "metadata": {},
   "source": [
    "Now I am going to add gender to the analysis and repeat the previous graphs to see what comes out of it."
   ]
  },
  {
   "cell_type": "markdown",
   "metadata": {},
   "source": [
    "1. Trips by month and user type and gender"
   ]
  },
  {
   "cell_type": "code",
   "execution_count": 172,
   "metadata": {},
   "outputs": [
    {
     "data": {
      "image/png": "[encoded data removed]",
      "text/plain": [
       "<Figure size 810.375x360 with 2 Axes>"
      ]
     },
     "metadata": {
      "needs_background": "light"
     },
     "output_type": "display_data"
    }
   ],
   "source": [
    "order = ['January', 'February', 'March', 'April', 'May', 'June', 'July', 'August', 'September', 'October', 'November', 'December']\n",
    "g = sns.catplot(data = df, x = 'start_time_month', col = \"user_type\", hue = \"member_gender\", kind = 'count', sharey = False, order = order)\n",
    "g.set_axis_labels(\"Month\", \"Amount of Trips\")\n",
    "g._legend.set_title('Gender')\n",
    "g.set_titles(\"{col_name}\")\n",
    "g.fig.suptitle('Amount of rides per month per user type and gender', y=1.03, fontsize=14, fontweight='semibold');\n",
    "g.set_xticklabels(rotation = 50);"
   ]
  },
  {
   "cell_type": "markdown",
   "metadata": {},
   "source": [
    "The trend is very similar for males and females: for customers, the highest demand is around summertime; for subscribers, the highest demand is from May till October. Suprisingly, for customers there are quite a lot of females using the system between January and March in comparison to males - the ratio is much smaller than for the rest of the year.\n"
   ]
  },
  {
   "cell_type": "markdown",
   "metadata": {},
   "source": [
    "2. Trips by day and user type and gender"
   ]
  },
  {
   "cell_type": "code",
   "execution_count": 173,
   "metadata": {},
   "outputs": [
    {
     "data": {
      "image/png": "[encoded data removed]",
      "text/plain": [
       "<Figure size 810.375x360 with 2 Axes>"
      ]
     },
     "metadata": {
      "needs_background": "light"
     },
     "output_type": "display_data"
    }
   ],
   "source": [
    "order = ['Sun', 'Mon', 'Tue', 'Wed', 'Thu', 'Fri', 'Sat']\n",
    "g = sns.catplot(data = df, x = 'start_time_weekday', col = \"user_type\", hue = 'member_gender', kind = 'count', sharey = False, order = order)\n",
    "g.set_axis_labels(\"Weekday\", \"Amount of Trips\")\n",
    "g._legend.set_title('Gender')\n",
    "g.set_titles(\"{col_name}\")\n",
    "g.fig.suptitle('Amount of rides per weekday / user type / gender ', y = 1.03, fontsize = 14, fontweight = 'semibold');"
   ]
  },
  {
   "cell_type": "markdown",
   "metadata": {},
   "source": [
    "As in the previous graph, the trend is very similar for males and females: customers use the system more often during weekends, subscribers use the system mainly within a week."
   ]
  },
  {
   "cell_type": "markdown",
   "metadata": {},
   "source": [
    "3. Trips by time and user type and gender"
   ]
  },
  {
   "cell_type": "code",
   "execution_count": 174,
   "metadata": {},
   "outputs": [
    {
     "data": {
      "image/png": "[encoded data removed]",
      "text/plain": [
       "<Figure size 810.375x360 with 2 Axes>"
      ]
     },
     "metadata": {
      "needs_background": "light"
     },
     "output_type": "display_data"
    }
   ],
   "source": [
    "g = sns.catplot(data = df, x = 'start_time_hour', col = \"user_type\", hue = 'member_gender', kind = 'count', sharey = False)\n",
    "g.set_axis_labels(\"Hour\", \"Amount of Trips\")\n",
    "g._legend.set_title('Gender')\n",
    "g.set_titles(\"{col_name}\")\n",
    "g.fig.suptitle('Hourly usage of the bikesharing by user type / gender', y=1.03, fontsize=14, fontweight='semibold');"
   ]
  },
  {
   "cell_type": "markdown",
   "metadata": {},
   "source": [
    "There is no significant difference in how different genders use the bike sharing during the day"
   ]
  },
  {
   "cell_type": "markdown",
   "metadata": {},
   "source": [
    "4. Trip duration by user type"
   ]
  },
  {
   "cell_type": "code",
   "execution_count": 176,
   "metadata": {},
   "outputs": [
    {
     "data": {
      "image/png": "[encoded data removed]",
      "text/plain": [
       "<Figure size 810.375x360 with 1 Axes>"
      ]
     },
     "metadata": {
      "needs_background": "light"
     },
     "output_type": "display_data"
    }
   ],
   "source": [
    "data = df.query('duration_min < 45')\n",
    "g = sns.catplot(data = data, x = 'user_type', y = \"duration_min\", hue = \"member_gender\", kind = \"violin\", height=5, aspect=2);\n",
    "g.set_axis_labels(\"User Type\", \"Trip Duration , min\")\n",
    "g._legend.set_title('Gender')\n",
    "g.fig.suptitle('Trip Duration Per User Type and Gender', y=1.05, fontsize=16, fontweight='bold');"
   ]
  },
  {
   "cell_type": "markdown",
   "metadata": {},
   "source": [
    "For both user types females take longer trips (mins) than males and other. "
   ]
  },
  {
   "cell_type": "markdown",
   "metadata": {},
   "source": [
    "####  Talk about some of the relationships you observed in this part of the investigation. Were there features that strengthened each other in terms of looking at your feature(s) of interest?\n",
    "All plots strongly supported the observation that there are 2 main customer groups - customers(the minority), who are using the ride sharing casually and the most stable in their demand; and subscribers, who are mostly using the service as an extension to the public transportation and their habits are strongly driven by their working schedule.\n",
    "\n",
    "#### Were there any interesting or surprising interactions between features?\n",
    "There were almost no surpises, except of the fact that the ratio of the females taking the ride during the winter preiod suggests that the females are more cold-resistant:)\n"
   ]
  }
 ],
 "metadata": {
  "kernelspec": {
   "display_name": "Python 3",
   "language": "python",
   "name": "python3"
  },
  "language_info": {
   "codemirror_mode": {
    "name": "ipython",
    "version": 3
   },
   "file_extension": ".py",
   "mimetype": "text/x-python",
   "name": "python",
   "nbconvert_exporter": "python",
   "pygments_lexer": "ipython3",
   "version": "3.7.3"
  }
 },
 "nbformat": 4,
 "nbformat_minor": 2
}
